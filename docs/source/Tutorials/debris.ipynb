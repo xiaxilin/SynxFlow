{
 "cells": [
  {
   "attachments": {},
   "cell_type": "markdown",
   "metadata": {},
   "source": [
    "# A tutorial for running a debris flow simulation\n",
    "\n",
    "This tutorial is written as a Jupyter notebook and provides a step-by-step tutorial for setting up a debris flow model and plot its outputs. We will use the sample data included in the synxflow package. The notebook can be downloaded from [Github](https://github.com/SynxFlow/SynxFlow/blob/master/docs/source/Tutorials/debris.ipynb).\n",
    "\n",
    "[![Run a debris model](https://colab.research.google.com/assets/colab-badge.svg)](https://colab.research.google.com/drive/1xz-CqSVJBH_nyFZSRVagRVHZ2dcXiFI-?usp=sharing)\n",
    "\n",
    "Authors: \n",
    "[Xilin Xia](https://www.birmingham.ac.uk/staff/profiles/civil/xia-xilin.aspx), \n",
    "[Kristine Jarsve](https://www.linkedin.com/in/kristine-thorkildsen-jarsve/)\n",
    "\n",
    "Date: Created on 03/10/2023, updated on 03/11/2024"
   ]
  },
  {
   "cell_type": "markdown",
   "metadata": {},
   "source": [
    "## Explaining the data\n",
    "\n",
    "The first step is to list which data is included in the sample."
   ]
  },
  {
   "cell_type": "code",
   "execution_count": 1,
   "metadata": {},
   "outputs": [
    {
     "data": {
      "text/plain": [
       "['Erosion.txt', 'DEM.txt']"
      ]
     },
     "execution_count": 1,
     "metadata": {},
     "output_type": "execute_result"
    }
   ],
   "source": [
    "from synxflow import IO\n",
    "import os\n",
    "from synxflow.IO.demo_functions import get_sample_data\n",
    "dem_file, demo_data, data_path = get_sample_data(case_type ='debris') # get the path of sample data\n",
    "os.listdir(data_path)"
   ]
  },
  {
   "attachments": {},
   "cell_type": "markdown",
   "metadata": {},
   "source": [
    "As we can see from the list, there are 2 files in the folder. Both of them are ArcGIS ASCII format raster. 'DEM.txt' defines the topography while 'Erosion.txt' defines the erodible depth."
   ]
  },
  {
   "attachments": {},
   "cell_type": "markdown",
   "metadata": {},
   "source": [
    " We can use the 'Raster' and 'mapshow' functions built in synxflow to visualise them. As we can see from the figure, the DEM represents a channel joining a floodboard. The erodible depth represents some material along the channel."
   ]
  },
  {
   "cell_type": "code",
   "execution_count": 2,
   "metadata": {},
   "outputs": [
    {
     "data": {
      "text/plain": [
       "(<Figure size 640x480 with 2 Axes>, <Axes: >)"
      ]
     },
     "execution_count": 2,
     "metadata": {},
     "output_type": "execute_result"
    },
    {
     "data": {
      "image/png": "[encoded data removed]",
      "text/plain": [
       "<Figure size 640x480 with 2 Axes>"
      ]
     },
     "metadata": {},
     "output_type": "display_data"
    },
    {
     "data": {
      "image/png": "[encoded data removed]",
      "text/plain": [
       "<Figure size 640x480 with 2 Axes>"
      ]
     },
     "metadata": {},
     "output_type": "display_data"
    }
   ],
   "source": [
    "DEM = IO.Raster(os.path.join(data_path,'DEM.txt')) # load the file into a Raster object\n",
    "DEM.mapshow() # plot the Raster object\n",
    "ERO = IO.Raster(os.path.join(data_path,'Erosion.txt')) # load the file into a Raster object\n",
    "ERO.mapshow() # plot the Raster object"
   ]
  },
  {
   "attachments": {},
   "cell_type": "markdown",
   "metadata": {},
   "source": [
    "## Generating the inputs and runing the simulation\n",
    "\n",
    "We will now use the data we have just loaded to set up a flood model. In the first step, we need to initialise an InputModel object with the DEM. We also want to specify the directory where the simulation is run and the number of devices we want to use. The debris flow solver only supports single GPU now."
   ]
  },
  {
   "cell_type": "code",
   "execution_count": 3,
   "metadata": {},
   "outputs": [
    {
     "name": "stdout",
     "output_type": "stream",
     "text": [
      "0\n"
     ]
    }
   ],
   "source": [
    "case_folder = os.path.join(os.getcwd(), 'debris_case') # define a case folder in the current directory\n",
    "case_input = IO.InputModel(DEM, num_of_sections=1, case_folder=case_folder)"
   ]
  },
  {
   "cell_type": "markdown",
   "metadata": {},
   "source": [
    "We can then put some water in the catchment by setting an initial depth. In our case, the initial water depth is 0 m across the catchment."
   ]
  },
  {
   "cell_type": "code",
   "execution_count": 4,
   "metadata": {},
   "outputs": [],
   "source": [
    "case_input.set_initial_condition('h0', 0.0)"
   ]
  },
  {
   "attachments": {},
   "cell_type": "markdown",
   "metadata": {},
   "source": [
    "We then need to define a few additional parameters needed for debris flow simulations. In this situation, we used the 'add_user_defined_parameter' function."
   ]
  },
  {
   "cell_type": "code",
   "execution_count": 5,
   "metadata": {},
   "outputs": [
    {
     "name": "stdout",
     "output_type": "stream",
     "text": [
      "C is added to the InputModel object\n",
      "erodible_depth is added to the InputModel object\n",
      "static_friction_coeff is added to the InputModel object\n",
      "dynamic_friction_coeff is added to the InputModel object\n"
     ]
    }
   ],
   "source": [
    "import numpy as np\n",
    "concentration = np.zeros(DEM.array.shape)\n",
    "array = ERO.array + 0\n",
    "array[np.isnan(array)] = 0\n",
    "erodible_depth = array \n",
    "static_friction = np.zeros(DEM.array.shape) + 0.62\n",
    "dynamic_friction = np.zeros(DEM.array.shape) + 0.44\n",
    "\n",
    "case_input.add_user_defined_parameter('C', concentration)\n",
    "case_input.add_user_defined_parameter('erodible_depth', erodible_depth)\n",
    "case_input.add_user_defined_parameter('static_friction_coeff', static_friction)\n",
    "case_input.add_user_defined_parameter('dynamic_friction_coeff', dynamic_friction)\n",
    "case_input.set_grid_parameter(manning=0.018)"
   ]
  },
  {
   "attachments": {},
   "cell_type": "markdown",
   "metadata": {},
   "source": [
    "We then need to define the locations for flow gauge. We have defined four gauges at the inlet of the channel and another four at the outlet."
   ]
  },
  {
   "cell_type": "code",
   "execution_count": 6,
   "metadata": {},
   "outputs": [],
   "source": [
    "case_input.set_gauges_position(np.array([[0.5, 0.95],\n",
    "                                        [0.5,0.975],\n",
    "                                        [0.5,1.0],\n",
    "                                        [0.5,1.025],\n",
    "                                        [8.5,0.95],\n",
    "                                        [8.5,0.975],\n",
    "                                        [8.5,1.0],\n",
    "                                        [8.5,1.025]]))"
   ]
  },
  {
   "attachments": {},
   "cell_type": "markdown",
   "metadata": {},
   "source": [
    "The next step is setting up the boundary conditions similar to the flood simulation."
   ]
  },
  {
   "cell_type": "code",
   "execution_count": 7,
   "metadata": {},
   "outputs": [
    {
     "name": "stdout",
     "output_type": "stream",
     "text": [
      "0\n",
      "1\n",
      "2\n",
      "Flow series on boundary 1 is converted to velocities\n",
      "Theta = 0.00degree\n",
      "Flow series on boundary 2 is converted to velocities\n",
      "Theta = 270.00degree\n"
     ]
    },
    {
     "data": {
      "text/plain": [
       "(<Figure size 640x480 with 2 Axes>, <Axes: title={'center': 'Domain Map'}>)"
      ]
     },
     "execution_count": 7,
     "metadata": {},
     "output_type": "execute_result"
    },
    {
     "data": {
      "image/png": "[encoded data removed]",
      "text/plain": [
       "<Figure size 640x480 with 2 Axes>"
      ]
     },
     "metadata": {},
     "output_type": "display_data"
    }
   ],
   "source": [
    "flux = 600/10**6 # Flux given in cm^3/s. This converts the flux to m^3\n",
    "time = 20\n",
    "C_in = 0.05\n",
    "\n",
    "sourceBoundary = np.array([[-0.025,1.025], [0.025,0.975]]) # define the boundary box at the inlet\n",
    "outBoundary = np.array([[15,0], [16,2]]) #define the boundary box at the outlet\n",
    "discharge_values = np.array([[0,flux],[time,flux],[time+0.1,0]])\n",
    "concentration_values = np.array([[0,C_in],[time,C_in],[time+0.1,0]]) \n",
    "hUh_out = np.array([[0,0],[1,0]])\n",
    "\n",
    "bound_list = [{'polyPoints': sourceBoundary, 'type': 'open', 'hU': discharge_values, 'C': concentration_values},\n",
    "              { 'polyPoints': outBoundary, 'type': 'open', 'hU': hUh_out, 'h': hUh_out}]\n",
    "\n",
    "case_input.set_boundary_condition(boundary_list = bound_list, outline_boundary = 'rigid')\n",
    "case_input.domain_show()"
   ]
  },
  {
   "attachments": {},
   "cell_type": "markdown",
   "metadata": {},
   "source": [
    "We can now set up the running time and generate the input files for the solver, similar to setting up the flood simulation."
   ]
  },
  {
   "cell_type": "code",
   "execution_count": 8,
   "metadata": {},
   "outputs": [
    {
     "name": "stdout",
     "output_type": "stream",
     "text": [
      "---------------------- Model information ---------------------\n",
      "case_folder : /mnt/d/Projects/SynxFlow/docs/source/Tutorials/debris_case\n",
      "birthday : 2024-11-03 21:28\n",
      "num_GPU : 1\n",
      "run_time : [0, 60, 10, 10]\n",
      "num_gauges : 8\n",
      "---------------------- Grid information ----------------------\n",
      "area : [np.float64(12.950000000000003), 'm^2']\n",
      "shape : (80, 620)\n",
      "cellsize : [0.025, 'm']\n",
      "num_cells : 20720\n",
      "extent : {'left': 0.0, 'right': 15.5, 'bottom': 0.0, 'top': 2.0}\n",
      "---------------------- Initial condition ---------------------\n",
      "h0 : 0.0\n",
      "hU0x : 0\n",
      "hU0y : 0\n",
      "---------------------- Boundary condition --------------------\n",
      "num_boundary : 3\n",
      "boundary_details : ['0. (outline) rigid, number of cells: 1394', '1. open, hU given, C given, number of cells: 2', '2. open, h given, hU given, number of cells: 118']\n",
      "---------------------- Rainfall ------------------------------\n",
      "num_source : 1\n",
      "max : [np.int64(0), 'mm/h']\n",
      "sum : [np.float64(0.0), 'mm']\n",
      "average : [np.float64(0.0), 'mm/h']\n",
      "spatial_res : [np.float64(4.0), 'm']\n",
      "temporal_res : [np.float64(1.0), 's']\n",
      "---------------------- Parameters ----------------------------\n",
      "manning : 0.018\n",
      "sewer_sink : 0\n",
      "cumulative_depth : 0\n",
      "hydraulic_conductivity : 0\n",
      "capillary_head : 0\n",
      "water_content_diff : 0\n",
      "InputModel object created on 2024-11-03 21:28:10\n",
      "/mnt/d/Projects/SynxFlow/docs/source/Tutorials/debris_case/input/mesh/DEM.txt created\n",
      "times_setup.dat created\n",
      "device_setup.dat created\n"
     ]
    },
    {
     "name": "stdout",
     "output_type": "stream",
     "text": [
      "z created\n",
      "h created\n",
      "hU created\n",
      "precipitation created\n",
      "manning created\n",
      "sewer_sink created\n",
      "cumulative_depth created\n",
      "hydraulic_conductivity created\n",
      "capillary_head created\n",
      "water_content_diff created\n",
      "precipitation_mask created\n",
      "precipitation_source_all.dat created\n",
      "boundary condition files created\n",
      "gauges_pos.dat created\n",
      "C created\n",
      "erodible_depth created\n",
      "static_friction_coeff created\n",
      "dynamic_friction_coeff created\n"
     ]
    }
   ],
   "source": [
    "case_input.set_runtime([0, 60, 10, 10])\n",
    "print(case_input)\n",
    "\n",
    "case_input.get_data_folders()\n",
    "case_input.write_input_files()"
   ]
  },
  {
   "attachments": {},
   "cell_type": "markdown",
   "metadata": {},
   "source": [
    "We still need define a few other parameters such as the densities and particle diameter. These parameters need to be written into a 'parameters.dat' file."
   ]
  },
  {
   "cell_type": "code",
   "execution_count": 9,
   "metadata": {},
   "outputs": [],
   "source": [
    "rhoW = 1000 #Water density, [kg/m3]\n",
    "rhoS = 2650 #Solids density, [kg/m3]\n",
    "particleD = 0.00308 #Particle diameter, [m]\n",
    "phi = 0.4 #Porosity\n",
    "alpha = 1.0\n",
    "beta = 0.01\n",
    "\n",
    "case_input.write_debris_config(rhoW=rhoW, rhoS=rhoS, particleD=particleD, phi=phi, alpha=alpha, beta=beta)"
   ]
  },
  {
   "attachments": {},
   "cell_type": "markdown",
   "metadata": {},
   "source": [
    "Now we can run the simulation."
   ]
  },
  {
   "cell_type": "code",
   "execution_count": 10,
   "metadata": {},
   "outputs": [
    {
     "data": {
      "text/plain": [
       "0"
      ]
     },
     "execution_count": 10,
     "metadata": {},
     "output_type": "execute_result"
    },
    {
     "name": "stdout",
     "output_type": "stream",
     "text": [
      "GPU 0 is choosen as the model device\n",
      "Current time: 0s\n",
      "Total time: 60s\n",
      "Output time interval: 10s\n",
      "Backup interval: 10s\n",
      "Read in mesh successfully\n",
      "Data successfully read from file:input/field/z.nc\n",
      "Data successfully read from file:input/field/h.nc\n",
      "Data successfully read from file:input/field/hU.nc\n",
      "Data successfully read from file:input/field/C.nc\n",
      "Data successfully read from file:input/field/erodible_depth.nc\n",
      "Data successfully read from file:input/field/manning.nc\n",
      "Data successfully read from file:input/field/dynamic_friction_coeff.nc\n",
      "Data successfully read from file:input/field/static_friction_coeff.nc\n",
      "Data successfully read from file:input/field/precipitation.nc\n",
      "Read in field successfully\n",
      "0\n",
      "0.005000\n",
      "0.007291\n",
      "0.010110\n",
      "0.013173\n",
      "0.016338\n",
      "...\n",
      "59.951874\n",
      "59.967251\n",
      "59.982628\n",
      "59.998005\n",
      "60.000000\n",
      "Writing output files\n",
      "Writing backup files\n",
      "Data successfully written to NetCDF file: output/h_backup__60.nc\n",
      "Data successfully written to NetCDF file: output/z_backup__60.nc\n",
      "Data successfully written to NetCDF file: output/hU_backup__60.nc\n",
      "Data successfully written to NetCDF file: output/C_backup__60.nc\n",
      "Total runtime 15955.2ms\n"
     ]
    }
   ],
   "source": [
    "from synxflow import debris\n",
    "debris.run(case_folder)"
   ]
  },
  {
   "attachments": {},
   "cell_type": "markdown",
   "metadata": {},
   "source": [
    "## Plotting the results\n",
    "\n",
    "After the simulation finishes, we can plot the discharge at both the inlet and the outlet of the channel. To calculate the total discharge, we have to add the unit-width discharges (hU) from all the four gauges together and multiply it with the cell width."
   ]
  },
  {
   "cell_type": "code",
   "execution_count": 11,
   "metadata": {},
   "outputs": [
    {
     "data": {
      "text/plain": [
       "<function matplotlib.pyplot.show(close=None, block=None)>"
      ]
     },
     "execution_count": 11,
     "metadata": {},
     "output_type": "execute_result"
    },
    {
     "data": {
      "image/png": "[encoded data removed]",
      "text/plain": [
       "<Figure size 640x480 with 1 Axes>"
      ]
     },
     "metadata": {},
     "output_type": "display_data"
    }
   ],
   "source": [
    "import matplotlib.pyplot as plt\n",
    "\n",
    "case_output = IO.OutputModel(case_folder=case_folder) #Creating an output object\n",
    "\n",
    "\n",
    "\n",
    "# Calculate the discharge\n",
    "hU_gauges_pos, hU_times, hU_values = case_output.read_gauges_file(file_tag = 'hU')\n",
    "hUx_values = hU_values[0] # Extracts the x-values from the 3D array to a 2D array\n",
    "hUy_values = hU_values[1]  # Extracts the y-values from the 3D array to a 2D array\n",
    "\n",
    "cellsize = DEM.cellsize\n",
    "hUx_top = hUx_values[:,0:4]\n",
    "hUx_outlet = hUx_values[:,4:8]  \n",
    "hUy_top = hUy_values[:,0:4]\n",
    "hUy_outlet = hUy_values[:,4:8] \n",
    "dis_hUy_top = np.abs(np.sum(hUy_top, axis = 1)*cellsize)\n",
    "dis_hUy_outlet = np.abs(np.sum(hUy_outlet, axis = 1)*cellsize)\n",
    "\n",
    "dis_hUx_top = np.abs(np.sum(hUx_top, axis = 1)*cellsize)\n",
    "dis_hUx_outlet = np.abs(np.sum(hUx_outlet, axis = 1)*cellsize)\n",
    "\n",
    "\n",
    "plt.figure(0)\n",
    "plt.plot(hU_times,dis_hUx_top)\n",
    "plt.plot(hU_times,dis_hUx_outlet)\n",
    "plt.legend(['Top gauge', 'Outlet gauge'])\n",
    "plt.xlabel('time (s)')\n",
    "plt.ylabel('Discharge (m^3/s)')\n",
    "plt.title('Discharge X-direction')\n",
    "plt.show\n"
   ]
  },
  {
   "cell_type": "markdown",
   "metadata": {},
   "source": [
    "We can also visualise the topographic change by plotting the difference between the DEM and the final value of z"
   ]
  },
  {
   "cell_type": "code",
   "execution_count": 12,
   "metadata": {},
   "outputs": [
    {
     "data": {
      "text/plain": [
       "(<Figure size 640x480 with 2 Axes>, <Axes: >)"
      ]
     },
     "execution_count": 12,
     "metadata": {},
     "output_type": "execute_result"
    },
    {
     "data": {
      "image/png": "[encoded data removed]",
      "text/plain": [
       "<Figure size 640x480 with 2 Axes>"
      ]
     },
     "metadata": {},
     "output_type": "display_data"
    }
   ],
   "source": [
    "final_DEM = case_output.read_grid_file(file_tag='z_60')\n",
    "z_diff = DEM\n",
    "z_diff.array = final_DEM.array - DEM.array\n",
    "z_diff.mapshow()"
   ]
  }
 ],
 "metadata": {
  "kernelspec": {
   "display_name": "synxflownc",
   "language": "python",
   "name": "python3"
  },
  "language_info": {
   "codemirror_mode": {
    "name": "ipython",
    "version": 3
   },
   "file_extension": ".py",
   "mimetype": "text/x-python",
   "name": "python",
   "nbconvert_exporter": "python",
   "pygments_lexer": "ipython3",
   "version": "3.9.18"
  }
 },
 "nbformat": 4,
 "nbformat_minor": 4
}
